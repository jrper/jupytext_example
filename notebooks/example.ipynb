{
 "cells": [
  {
   "cell_type": "markdown",
   "metadata": {},
   "source": [
    "# An example notebook to demonstrate jupytext"
   ]
  },
  {
   "cell_type": "code",
   "execution_count": null,
   "metadata": {},
   "outputs": [],
   "source": [
    "# A sorting algorithm\n",
    "\n",
    "def sort(arr):\n",
    "    \"\"\"An implementation of the bubble sort algorithm.\n",
    "\n",
    "    Bubble sort is a simple(often quite bad) sorting algorithm.\n",
    "\n",
    "    Parameters\n",
    "    ----------\n",
    "    arr : array_like\n",
    "        The sequence to be sorted.\n",
    "\n",
    "    Returns\n",
    "    -------\n",
    "    arr : array_like\n",
    "        The (inplace) sorted sequence.\n",
    "    \"\"\"\n",
    "    for i in range(len(arr)):\n",
    "        for j in range(i+1, len(arr)):\n",
    "            if arr[i] > arr[j]:\n",
    "                arr[i], arr[j] = arr[j], arr[i]\n",
    "\n",
    "    return arr"
   ]
  }
 ],
 "metadata": {
  "jupytext": {
   "main_language": "python"
  },
  "language_info": {
   "name": "python"
  }
 },
 "nbformat": 4,
 "nbformat_minor": 2
}
